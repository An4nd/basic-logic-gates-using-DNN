{
  "nbformat": 4,
  "nbformat_minor": 0,
  "metadata": {
    "colab": {
      "name": "Untitled1.ipynb",
      "version": "0.3.2",
      "provenance": [],
      "include_colab_link": true
    },
    "kernelspec": {
      "name": "python3",
      "display_name": "Python 3"
    }
  },
  "cells": [
    {
      "cell_type": "markdown",
      "metadata": {
        "id": "view-in-github",
        "colab_type": "text"
      },
      "source": [
        "<a href=\"https://colab.research.google.com/github/An4nd/basic-logic-gates-using-DNN/blob/master/or-gate.ipynb\" target=\"_parent\"><img src=\"https://colab.research.google.com/assets/colab-badge.svg\" alt=\"Open In Colab\"/></a>"
      ]
    },
    {
      "metadata": {
        "id": "R--kCYTmOj4g",
        "colab_type": "code",
        "colab": {
          "base_uri": "https://localhost:8080/",
          "height": 86
        },
        "outputId": "6ddbc966-f263-49e8-dbbc-9f1a9c6c76b0"
      },
      "cell_type": "code",
      "source": [
        "\n",
        "import numpy as np\n",
        "\n",
        "\n",
        "\n",
        "def nonlinear(x,deriv=False):\n",
        "    if(deriv==True):\n",
        "      return x*(1-x)\n",
        "    return 1/(1+np.exp(-x))\n",
        "X=np.array([[0,0],\n",
        "            [0,1],\n",
        "            [1,0],\n",
        "            [1,1]   \n",
        "])\n",
        "y=np.array([\n",
        "    [0,1,1,1]\n",
        "]).T\n",
        "np.random.seed(1)\n",
        "syn0=2*np.random.random((2,1))-1\n",
        "for iter in range(1,1000):\n",
        "  \n",
        "  #forward propagation\n",
        "  l0=X\n",
        "  l1=nonlinear(np.dot(l0,syn0))\n",
        "  #loss\n",
        "  l_error=y-l1\n",
        "  #backprop\n",
        "  l_delta=l_error*nonlinear(l1,True)\n",
        "  #####\n",
        "  syn0+=np.dot(l0.T,l_delta)\n",
        "  \n",
        "  \n",
        "print(l1)  \n",
        "  \n",
        "  \n",
        "\n",
        "\n",
        "  "
      ],
      "execution_count": 20,
      "outputs": [
        {
          "output_type": "stream",
          "text": [
            "[[0.05485054]\n",
            " [0.96574319]\n",
            " [0.96573959]\n",
            " [0.99992698]]\n"
          ],
          "name": "stdout"
        }
      ]
    }
  ]
}
